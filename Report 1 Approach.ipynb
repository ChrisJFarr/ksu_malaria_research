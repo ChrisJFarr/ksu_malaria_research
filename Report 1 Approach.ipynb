{
 "cells": [
  {
   "cell_type": "markdown",
   "metadata": {},
   "source": [
    "4 feature inputs into all models.\n",
    "* Non-linear-transformations and no transformations\n",
    "* With Selleck-only (imputed) features / with all available features\n",
    "\n",
    "Train model and perform feature selection\n",
    "\n",
    "Establish baseline performance with consistent approach\n",
    "\n",
    "\n",
    "\n",
    "\n",
    "Grid search where to split the binary variable. Sensitivity analysis: reporting all the results of the grid... to what extent do you get different features with each grid point and against regression. And the similarity of the prediction of the Selleck\n",
    "Where do features intersect from multiple methods?\n",
    "The competition for OMS used R2\n",
    "\n",
    "Run various approaches, find a baseline of performace, select the top half performing and track the selected features.\n",
    "\n",
    "Selleck dataset, knn/kmeans, impute missing values, use selected columns: determine similarity of compounds to ic50 set.\n",
    "Treat as a test set to find how similar the various approaches predict.\n",
    "* Visualizations need to be built\n",
    "\n",
    "Someone compiles/runs the entire script.\n",
    "\n",
    "\n",
    "Additional Notes:\n",
    "Extract which features are responsible for the import support vectors. (watch out for the discrete)\n",
    "Rotation analysis with PCA (need to research)\n"
   ]
  }
 ],
 "metadata": {
  "kernelspec": {
   "display_name": "Python 3",
   "language": "python",
   "name": "python3"
  },
  "language_info": {
   "codemirror_mode": {
    "name": "ipython",
    "version": 3
   },
   "file_extension": ".py",
   "mimetype": "text/x-python",
   "name": "python",
   "nbconvert_exporter": "python",
   "pygments_lexer": "ipython3",
   "version": "3.5.4"
  }
 },
 "nbformat": 4,
 "nbformat_minor": 2
}
