{
 "cells": [
  {
   "cell_type": "markdown",
   "metadata": {},
   "source": [
    "### Lasso Feature Selection on Non-Linear Transformations: PCA"
   ]
  },
  {
   "cell_type": "code",
   "execution_count": 8,
   "metadata": {},
   "outputs": [],
   "source": [
    "import pandas as pd\n",
    "from sklearn.decomposition import KernelPCA\n",
    "from matplotlib import pyplot as plt\n",
    "import numpy as np\n",
    "from sklearn.preprocessing import StandardScaler\n",
    "from scipy.stats import skewtest\n",
    "from sklearn.linear_model import Lasso\n",
    "%matplotlib inline"
   ]
  },
  {
   "cell_type": "markdown",
   "metadata": {},
   "source": [
    "#### Read in data and pre-process variables"
   ]
  },
  {
   "cell_type": "code",
   "execution_count": 9,
   "metadata": {},
   "outputs": [],
   "source": [
    "df = pd.read_csv(\"data/Series3_6.15.17_padel.csv\")\n",
    "# Drop examples without IC50\n",
    "df = df[~df.IC50.isnull()]\n",
    "\n",
    "# Column types and counts\n",
    "np.unique(df.dtypes)\n",
    "len(df.columns[df.iloc[:, :].dtypes == 'O'])\n",
    "len(df.columns[df.iloc[:, :].dtypes == 'int64'])\n",
    "len(df.columns[df.iloc[:, :].dtypes == 'float64'])\n",
    "\n",
    "\"\"\" Preprocessing Variables \"\"\"\n",
    "# Categorical Variables: No missing values\n",
    "sum(df[df.columns[df.iloc[:, :].dtypes == 'int64']].isnull().sum())\n",
    "# Get dummy vars: filter to int type, convert to object, pass to get_dummies.\n",
    "cat_vars_df = pd.get_dummies(\n",
    "    df[df.columns[df.iloc[:, :].dtypes == 'int64']].astype('O'))\n",
    "\n",
    "# Continuous Variables: 67 columns have missing values\n",
    "sum(df[df.columns[df.iloc[:, :].dtypes == 'float64']].isnull().sum())\n",
    "# Impute or remove? (for now remove any columns with nan)\n",
    "cont_vars_df = df[df.columns[df.iloc[:, :].dtypes == 'float64']].dropna(axis=1)\n",
    "# Drop target variable\n",
    "cont_vars_df.drop(\"IC50\", axis=1, inplace=True)"
   ]
  },
  {
   "cell_type": "markdown",
   "metadata": {},
   "source": [
    "#### Process continuous variables: Add transformations, remove skewed features"
   ]
  },
  {
   "cell_type": "code",
   "execution_count": 1,
   "metadata": {},
   "outputs": [],
   "source": [
    "def add_transformations(df, feat):\n",
    "    feature_df = df.loc[:, feat].copy()\n",
    "    if feature_df.min() > 0:  # Avoid 0 or negative\n",
    "        df.loc[:, feat + \"_log\"] = feature_df.apply(np.log)  # log\n",
    "        df.loc[:, feat + \"_log2\"] = feature_df.apply(np.log2)  # log2\n",
    "        df.loc[:, feat + \"_log10\"] = feature_df.apply(np.log10)  # log10\n",
    "    df.loc[:, feat + \"_cubert\"] = feature_df.apply(\n",
    "        lambda x: np.power(x, 1/3))  # cube root\n",
    "    df.loc[:, feat + \"_sqrt\"] = feature_df.apply(np.sqrt)  # square root\n",
    "    if feature_df.max() < 10:  # Avoid extremely large values\n",
    "        df.loc[:, feat + \"_sq\"] = feature_df.apply(np.square)  # square\n",
    "        df.loc[:, feat + \"_cube\"] = feature_df.apply(\n",
    "            lambda x: np.power(x, 3))  # cube\n",
    "        df.loc[:, feat + \"_exp\"] = feature_df.apply(np.exp)  # exp\n",
    "        df.loc[:, feat + \"_exp2\"] = feature_df.apply(np.exp2)  # exp2\n",
    "    return df"
   ]
  },
  {
   "cell_type": "code",
   "execution_count": 11,
   "metadata": {},
   "outputs": [],
   "source": [
    "# Add above transformations for all continuous variables\n",
    "for feature in cont_vars_df.columns:\n",
    "    cont_vars_df = add_transformations(cont_vars_df, feature)\n",
    "# Drop any new columns with NaN due to improper transformation\n",
    "cont_vars_df.replace([np.inf, -np.inf], np.nan, inplace=True)\n",
    "cont_vars_df.dropna(axis=1, inplace=True)"
   ]
  },
  {
   "cell_type": "code",
   "execution_count": 13,
   "metadata": {},
   "outputs": [],
   "source": [
    "# Assume skewed if we can reject the null hypothesis with 95% certainty\n",
    "# Remove any skewed features after adding transformations\n",
    "cont_vars_df = cont_vars_df.loc[:, cont_vars_df.apply(\n",
    "    lambda x: skewtest(x)[1] > .05).values]"
   ]
  },
  {
   "cell_type": "code",
   "execution_count": 14,
   "metadata": {},
   "outputs": [],
   "source": [
    "# Combine datasets\n",
    "vars_df = pd.concat([cat_vars_df, cont_vars_df], axis=1)"
   ]
  },
  {
   "cell_type": "markdown",
   "metadata": {},
   "source": [
    "#### Create function for plotting variable distributions"
   ]
  },
  {
   "cell_type": "code",
   "execution_count": 15,
   "metadata": {},
   "outputs": [],
   "source": [
    "# Plot to compare skewness before and after a few transformations\n",
    "def view_density_plot(df: pd.DataFrame, title=None):\n",
    "    \"\"\"\n",
    "    Plot density, mean, and median for single feature\n",
    "    @param df: Single feature dataframe for plotting\n",
    "    @param title: String, plot title\n",
    "    \"\"\"\n",
    "    df.plot(kind=\"density\", figsize=(4, 4))\n",
    "    plt.vlines(df.mean(), ymin=0, ymax=.7, linewidth=5.0, label=\"mean\")\n",
    "    plt.vlines(df.median(), ymin=0, ymax=.7,\n",
    "               linewidth=2.0, color=\"red\", label=\"median\")\n",
    "    plt.legend()\n",
    "    if title is not None:\n",
    "        plt.title(title)"
   ]
  },
  {
   "cell_type": "code",
   "execution_count": 16,
   "metadata": {},
   "outputs": [
    {
     "name": "stdout",
     "output_type": "stream",
     "text": [
      "SkewtestResult(statistic=array([1.64694995]), pvalue=array([0.09956833]))\n",
      "SkewtestResult(statistic=array([-5.42540597]), pvalue=array([5.78229633e-08]))\n"
     ]
    }
   ],
   "source": [
    "print(skewtest(df.loc[:, [\"IC50\"]]))\n",
    "print(skewtest(df.loc[:, [\"IC50\"]].apply(np.log)))"
   ]
  },
  {
   "cell_type": "code",
   "execution_count": 17,
   "metadata": {},
   "outputs": [
    {
     "data": {
      "image/png": "[encoded data removed]",
      "text/plain": [
       "<Figure size 288x288 with 1 Axes>"
      ]
     },
     "metadata": {},
     "output_type": "display_data"
    },
    {
     "data": {
      "image/png": "[encoded data removed]",
      "text/plain": [
       "<Figure size 288x288 with 1 Axes>"
      ]
     },
     "metadata": {},
     "output_type": "display_data"
    }
   ],
   "source": [
    "# Analyze target variable for transformations (reciprical and log)\n",
    "# Normalize target\n",
    "df.loc[:, \"IC50_norm\"] = StandardScaler().fit_transform(df.loc[:, [\"IC50\"]])\n",
    "view_density_plot(df.loc[:, [\"IC50_norm\"]], \"IC50 Normalized\")\n",
    "view_density_plot(df.loc[:, [\"IC50_norm\"]].apply(np.log), \"IC50 Normalized LN\")"
   ]
  },
  {
   "cell_type": "markdown",
   "metadata": {},
   "source": [
    "Log base 10, log base 2, ln, reciprical don't improve skewness of target variable."
   ]
  },
  {
   "cell_type": "markdown",
   "metadata": {},
   "source": [
    "### Perform Lasso feature-selection on entire dataset"
   ]
  },
  {
   "cell_type": "code",
   "execution_count": 18,
   "metadata": {},
   "outputs": [],
   "source": [
    "# Normalize variables\n",
    "x_scaler = StandardScaler()\n",
    "y_scaler = StandardScaler()\n",
    "\n",
    "x_train = x_scaler.fit_transform(vars_df)\n",
    "x_columns = list(vars_df.columns)\n",
    "y_train = y_scaler.fit_transform(df.IC50.values.reshape(-1, 1))"
   ]
  },
  {
   "cell_type": "code",
   "execution_count": 19,
   "metadata": {},
   "outputs": [
    {
     "data": {
      "text/plain": [
       "Lasso(alpha=0.25, copy_X=True, fit_intercept=True, max_iter=100000,\n",
       "   normalize=False, positive=False, precompute=False, random_state=None,\n",
       "   selection='cyclic', tol=1e-05, warm_start=False)"
      ]
     },
     "execution_count": 19,
     "metadata": {},
     "output_type": "execute_result"
    }
   ],
   "source": [
    "model = Lasso(alpha=0.25, max_iter=100000, tol=1e-5)\n",
    "model.fit(x_train, y_train)"
   ]
  },
  {
   "cell_type": "code",
   "execution_count": 20,
   "metadata": {},
   "outputs": [
    {
     "name": "stdout",
     "output_type": "stream",
     "text": [
      "Number of predictors: 21\n"
     ]
    }
   ],
   "source": [
    "# Extract coefficients\n",
    "positive_coeffs = len([c for c in model.coef_ if c > 0])\n",
    "neg_coeffs = len([c for c in model.coef_ if c < 0])\n",
    "# All non-zero are selected as predictive indicators\n",
    "pred_indicators = [f for f, c in zip(x_columns, model.coef_) if c != 0]\n",
    "print(\"Number of predictors: %s\" %len(pred_indicators))"
   ]
  },
  {
   "cell_type": "code",
   "execution_count": 21,
   "metadata": {},
   "outputs": [],
   "source": [
    "# Customize color map, darker => more potent\n",
    "def create_map(x):\n",
    "    if x < 1:\n",
    "        return 'black'\n",
    "    elif x < 10:\n",
    "        return 'blue'\n",
    "    elif x < 15:\n",
    "        return 'deepskyblue'\n",
    "    else:\n",
    "        return 'lightgreen'\n",
    "\n",
    "color_map = df.IC50.apply(create_map)"
   ]
  },
  {
   "cell_type": "code",
   "execution_count": 22,
   "metadata": {
    "scrolled": false
   },
   "outputs": [
    {
     "data": {
      "image/png": "[encoded data removed]",
      "text/plain": [
       "<Figure size 432x288 with 1 Axes>"
      ]
     },
     "metadata": {},
     "output_type": "display_data"
    }
   ],
   "source": [
    "# Build Polynomial Pricipal Components, include all dimensions\n",
    "pca = KernelPCA(n_components=2, kernel=\"poly\", random_state=0, n_jobs=3)\n",
    "pca_out = pca.fit_transform(vars_df.loc[:, pred_indicators])\n",
    "\n",
    "# Sort pca so potent show on top of non-potent (easier visibility)\n",
    "sorted_pca = [x for (y, x) in sorted(zip(df.IC50.values, pca_out), \n",
    "                                     key=lambda pair: pair[0], reverse=True)]\n",
    "color_map = [x for (y, x) in sorted(zip(df.IC50.values, color_map), \n",
    "                                    key=lambda pair: pair[0], reverse=True)]\n",
    "sorted_pca = np.array(sorted_pca)\n",
    "x = sorted_pca[:, 0]\n",
    "y = sorted_pca[:, 1]\n",
    "plt.scatter(x=x, y=y, c=color_map, alpha=1)\n",
    "plt.xlim(min(x) * 1.1, max(x) * 1.1)\n",
    "plt.ylim(min(y) * 1.1, max(y) * 1.1)\n",
    "plt.title(\"Polynomial PCA\")\n",
    "plt.show()"
   ]
  },
  {
   "cell_type": "code",
   "execution_count": 23,
   "metadata": {},
   "outputs": [
    {
     "name": "stdout",
     "output_type": "stream",
     "text": [
      "Features used for PCA nAtom_43, \n",
      "nHeavyAtom_27, \n",
      "nX_0, \n",
      "nBase_0, \n",
      "nBase_1, \n",
      "C1SP3_1, \n",
      "nHssNH_1, \n",
      "nssNH_1, \n",
      "nsssN_2, \n",
      "nHBDon_Lipinski_1, \n",
      "MPC2_43, \n",
      "MPC3_41, \n",
      "MPC10_72, \n",
      "nRotB_4, \n",
      "WPOL_30, \n",
      "WPOL_41, \n",
      "Zagreb_146, \n",
      "AATSC7c_exp, \n",
      "AATSC2i_sqrt, \n",
      "AATSC2i_exp2, \n",
      "VE1_Dt_exp\n"
     ]
    }
   ],
   "source": [
    "print(\"Features used for PCA \" + \", \\n\".join(pred_indicators))"
   ]
  },
  {
   "cell_type": "markdown",
   "metadata": {},
   "source": [
    "An interesting line is forming for the top potency compounds ending with the most potent. \n",
    "\n",
    "Thoughts for next steps...\n",
    "* How well can the features perform in predicting OSM-S-106 potency without having it in train set?\n",
    "* What is leave-one-out-cv mean-squared-error using these features?\n",
    "* Replace Lasso selection with forward step-wise feature selection using OSM-S-106 as the validation set\n",
    "* Refine PCA analysis and color code the missing compounds to identify what could be tested next\n",
    "* Cross reference the PCA color code recommendation with various predictive methods, is there consistency in the recommendation?"
   ]
  },
  {
   "cell_type": "markdown",
   "metadata": {},
   "source": [
    "Incorporate decoys into PCA.\n",
    "Visualize best dimensional split:\n",
    "  * Pass PCA through feature importance pred algo\n",
    "  * Visualize using top two dimensions\n",
    "\n",
    "Improve filtering of features through forward-stepwise selection.\n",
    "Add decoys to dataset for more detailed separation.\n",
    "\n",
    "Longer term: genetic algorithm for feature selection?\n",
    "\n",
    "Kmeans cluster decoys and color code groups along with potency of tested compounds. Differentiate untested compounds. (cluster using the selected features from the best method of feature selection)"
   ]
  }
 ],
 "metadata": {
  "kernelspec": {
   "display_name": "Python [default]",
   "language": "python",
   "name": "python3"
  },
  "language_info": {
   "codemirror_mode": {
    "name": "ipython",
    "version": 3
   },
   "file_extension": ".py",
   "mimetype": "text/x-python",
   "name": "python",
   "nbconvert_exporter": "python",
   "pygments_lexer": "ipython3",
   "version": "3.6.4"
  }
 },
 "nbformat": 4,
 "nbformat_minor": 2
}
