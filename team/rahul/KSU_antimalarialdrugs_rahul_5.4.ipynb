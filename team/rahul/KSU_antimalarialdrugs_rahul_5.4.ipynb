{
 "cells": [
  {
   "cell_type": "code",
   "execution_count": 2,
   "metadata": {},
   "outputs": [],
   "source": [
    "import os\n",
    "import pandas as pd\n",
    "import numpy as np\n",
    "import matplotlib.pyplot as plt\n",
    "from scipy.stats import skewtest"
   ]
  },
  {
   "cell_type": "code",
   "execution_count": 4,
   "metadata": {},
   "outputs": [],
   "source": [
    "X_data = pd.read_pickle(\"x_data.pkl\")\n",
    "y_class = pd.read_pickle(\"y_class.pkl\")\n",
    "y_data = pd.read_pickle(\"y_data.pkl\")"
   ]
  },
  {
   "cell_type": "code",
   "execution_count": 5,
   "metadata": {},
   "outputs": [
    {
     "name": "stdout",
     "output_type": "stream",
     "text": [
      "(47, 3650) (47,) (47,) [0, 1]\n"
     ]
    }
   ],
   "source": [
    "print(X_data.shape,y_data.shape, y_class.shape, list(set(y_class)))\n",
    "#print(x_data.head())"
   ]
  },
  {
   "cell_type": "code",
   "execution_count": 4,
   "metadata": {},
   "outputs": [
    {
     "name": "stdout",
     "output_type": "stream",
     "text": [
      "Requirement already up-to-date: imbalanced-learn in c:\\users\\ra029810\\appdata\\local\\continuum\\anaconda3\\lib\\site-packages (0.3.3)\n",
      "Requirement not upgraded as not directly required: scikit-learn in c:\\users\\ra029810\\appdata\\local\\continuum\\anaconda3\\lib\\site-packages (from imbalanced-learn) (0.19.1)\n",
      "Requirement not upgraded as not directly required: scipy in c:\\users\\ra029810\\appdata\\local\\continuum\\anaconda3\\lib\\site-packages (from imbalanced-learn) (0.19.1)\n",
      "Requirement not upgraded as not directly required: numpy in c:\\users\\ra029810\\appdata\\local\\continuum\\anaconda3\\lib\\site-packages (from imbalanced-learn) (1.14.3)\n"
     ]
    }
   ],
   "source": [
    "#!pip install --upgrade pip\n",
    "!pip install -U imbalanced-learn"
   ]
  },
  {
   "cell_type": "code",
   "execution_count": 5,
   "metadata": {
    "collapsed": true
   },
   "outputs": [],
   "source": [
    "from imblearn.over_sampling import SMOTE\n",
    "from sklearn.model_selection import train_test_split"
   ]
  },
  {
   "cell_type": "code",
   "execution_count": 6,
   "metadata": {
    "collapsed": true
   },
   "outputs": [],
   "source": [
    "X_train, X_test, y_train, y_test = train_test_split(X_data, y_class, test_size=0.25, random_state=42)"
   ]
  },
  {
   "cell_type": "code",
   "execution_count": 7,
   "metadata": {},
   "outputs": [
    {
     "name": "stdout",
     "output_type": "stream",
     "text": [
      "(35, 3650) (12, 3650)\n"
     ]
    }
   ],
   "source": [
    "print(X_train.shape, X_test.shape)"
   ]
  },
  {
   "cell_type": "code",
   "execution_count": 8,
   "metadata": {},
   "outputs": [
    {
     "name": "stdout",
     "output_type": "stream",
     "text": [
      "18\n"
     ]
    },
    {
     "data": {
      "image/png": "[encoded data removed]",
      "text/plain": [
       "<matplotlib.figure.Figure at 0x1540ac29cf8>"
      ]
     },
     "metadata": {},
     "output_type": "display_data"
    }
   ],
   "source": [
    "from sklearn.decomposition import PCA\n",
    "# feature extraction\n",
    "pca = PCA(.9999)\n",
    "pca_fit = pca.fit(X_data)\n",
    "#Cumulative Variance explains\n",
    "var1=np.cumsum(np.round(pca.explained_variance_ratio_, decimals=4)*100)\n",
    "\n",
    "print(len(var1))\n",
    "plt.plot(var1)\n",
    "plt.show()"
   ]
  },
  {
   "cell_type": "code",
   "execution_count": 9,
   "metadata": {
    "collapsed": true
   },
   "outputs": [],
   "source": [
    "X_train_pca = pca.transform(X_train)\n",
    "X_test_pca = pca.transform(X_test)"
   ]
  },
  {
   "cell_type": "code",
   "execution_count": 10,
   "metadata": {},
   "outputs": [
    {
     "data": {
      "text/plain": [
       "0.5"
      ]
     },
     "execution_count": 10,
     "metadata": {},
     "output_type": "execute_result"
    }
   ],
   "source": [
    "from sklearn.linear_model import LogisticRegression\n",
    "\n",
    "logisticRegr = LogisticRegression(solver = 'lbfgs')\n",
    "logisticRegr.fit(X_train_pca, y_train)\n",
    "logisticRegr.predict(X_train_pca[0].reshape(1,-1))\n",
    "logisticRegr.predict(X_train_pca)\n",
    "logisticRegr.score(X_test_pca, y_test)"
   ]
  },
  {
   "cell_type": "code",
   "execution_count": 11,
   "metadata": {},
   "outputs": [
    {
     "name": "stdout",
     "output_type": "stream",
     "text": [
      "[[5 3]\n",
      " [3 1]]\n",
      "             precision    recall  f1-score   support\n",
      "\n",
      "          0       0.62      0.62      0.62         8\n",
      "          1       0.25      0.25      0.25         4\n",
      "\n",
      "avg / total       0.50      0.50      0.50        12\n",
      "\n"
     ]
    }
   ],
   "source": [
    "from sklearn.metrics import classification_report, confusion_matrix\n",
    "print(confusion_matrix(y_test, logisticRegr.predict(X_test_pca)))\n",
    "print(classification_report(y_test, logisticRegr.predict(X_test_pca)))"
   ]
  },
  {
   "cell_type": "code",
   "execution_count": 12,
   "metadata": {},
   "outputs": [
    {
     "name": "stdout",
     "output_type": "stream",
     "text": [
      "Requirement already satisfied: yellowbrick in c:\\users\\ra029810\\appdata\\local\\continuum\\anaconda3\\lib\\site-packages (0.6)\n",
      "Requirement already satisfied: scipy>=0.19 in c:\\users\\ra029810\\appdata\\local\\continuum\\anaconda3\\lib\\site-packages (from yellowbrick) (0.19.1)\n",
      "Requirement already satisfied: matplotlib>=1.5.1 in c:\\users\\ra029810\\appdata\\local\\continuum\\anaconda3\\lib\\site-packages (from yellowbrick) (2.1.0)\n",
      "Requirement already satisfied: scikit-learn>=0.19 in c:\\users\\ra029810\\appdata\\local\\continuum\\anaconda3\\lib\\site-packages (from yellowbrick) (0.19.1)\n",
      "Requirement already satisfied: numpy>=1.13.0 in c:\\users\\ra029810\\appdata\\local\\continuum\\anaconda3\\lib\\site-packages (from yellowbrick) (1.14.3)\n",
      "Requirement already satisfied: cycler>=0.10.0 in c:\\users\\ra029810\\appdata\\local\\continuum\\anaconda3\\lib\\site-packages (from yellowbrick) (0.10.0)\n",
      "Requirement already satisfied: six>=1.10 in c:\\users\\ra029810\\appdata\\local\\continuum\\anaconda3\\lib\\site-packages (from matplotlib>=1.5.1->yellowbrick) (1.11.0)\n",
      "Requirement already satisfied: python-dateutil>=2.0 in c:\\users\\ra029810\\appdata\\local\\continuum\\anaconda3\\lib\\site-packages (from matplotlib>=1.5.1->yellowbrick) (2.6.1)\n",
      "Requirement already satisfied: pytz in c:\\users\\ra029810\\appdata\\local\\continuum\\anaconda3\\lib\\site-packages (from matplotlib>=1.5.1->yellowbrick) (2017.2)\n",
      "Requirement already satisfied: pyparsing!=2.0.4,!=2.1.2,!=2.1.6,>=2.0.1 in c:\\users\\ra029810\\appdata\\local\\continuum\\anaconda3\\lib\\site-packages (from matplotlib>=1.5.1->yellowbrick) (2.2.0)\n"
     ]
    }
   ],
   "source": [
    "!pip install yellowbrick"
   ]
  },
  {
   "cell_type": "code",
   "execution_count": 13,
   "metadata": {},
   "outputs": [
    {
     "data": {
      "image/png": "[encoded data removed]",
      "text/plain": [
       "<matplotlib.figure.Figure at 0x1540adbdf28>"
      ]
     },
     "metadata": {},
     "output_type": "display_data"
    }
   ],
   "source": [
    "from yellowbrick.classifier import ClassificationReport, ConfusionMatrix\n",
    "\n",
    "cm = ConfusionMatrix(logisticRegr, cmap='Blues')\n",
    "cm.fit(X_train_pca, y_train)\n",
    "cm.score(X_test_pca, y_test)\n",
    "cm.poof()\n",
    "\n",
    "#cm = ClassificationReport(logisticRegr, cmap='Blues')\n",
    "#cm.fit(X_train_pca, y_train)\n",
    "#cm.score(X_test_pca, y_test)\n",
    "#cm.poof()"
   ]
  },
  {
   "cell_type": "code",
   "execution_count": 14,
   "metadata": {},
   "outputs": [
    {
     "data": {
      "text/plain": [
       "0.75"
      ]
     },
     "execution_count": 14,
     "metadata": {},
     "output_type": "execute_result"
    }
   ],
   "source": [
    "from sklearn.ensemble import RandomForestClassifier\n",
    "random_classifier = RandomForestClassifier(random_state=42)\n",
    "\n",
    "random_classifier.fit(X_train_pca, y_train)\n",
    "random_classifier.predict(X_test_pca)\n",
    "random_classifier.score(X_test_pca, y_test)"
   ]
  },
  {
   "cell_type": "code",
   "execution_count": 15,
   "metadata": {},
   "outputs": [
    {
     "data": {
      "image/png": "[encoded data removed]",
      "text/plain": [
       "<matplotlib.figure.Figure at 0x15410058668>"
      ]
     },
     "metadata": {},
     "output_type": "display_data"
    }
   ],
   "source": [
    "cmrf = ConfusionMatrix(random_classifier, cmap='Blues')\n",
    "cmrf.fit(X_train_pca, y_train)\n",
    "cmrf.score(X_test_pca, y_test)\n",
    "cmrf.poof()"
   ]
  },
  {
   "cell_type": "markdown",
   "metadata": {},
   "source": [
    "## Using oversampling techniques.\n",
    "Perform oversampling before split."
   ]
  },
  {
   "cell_type": "code",
   "execution_count": 16,
   "metadata": {},
   "outputs": [
    {
     "name": "stdout",
     "output_type": "stream",
     "text": [
      "(72, 3650)\n"
     ]
    }
   ],
   "source": [
    "# pre split\n",
    "pre_oversampler=SMOTE(random_state=0)\n",
    "pre_os_features, pre_os_labels = pre_oversampler.fit_sample(X_data,y_class)\n",
    "print(pre_os_features.shape)"
   ]
  },
  {
   "cell_type": "code",
   "execution_count": 17,
   "metadata": {},
   "outputs": [
    {
     "name": "stdout",
     "output_type": "stream",
     "text": [
      "19\n"
     ]
    },
    {
     "data": {
      "image/png": "[encoded data removed]",
      "text/plain": [
       "<matplotlib.figure.Figure at 0x15410094f98>"
      ]
     },
     "metadata": {},
     "output_type": "display_data"
    }
   ],
   "source": [
    "pca = PCA(.9999)\n",
    "pca_fit = pca.fit(pre_os_features)\n",
    "#Cumulative Variance explains\n",
    "var2 = np.cumsum(np.round(pca.explained_variance_ratio_, decimals=4)*100)\n",
    "\n",
    "print(len(var2))\n",
    "plt.plot(var2)\n",
    "plt.show()"
   ]
  },
  {
   "cell_type": "code",
   "execution_count": 18,
   "metadata": {},
   "outputs": [
    {
     "name": "stdout",
     "output_type": "stream",
     "text": [
      "(54, 3650) (18, 3650)\n"
     ]
    },
    {
     "data": {
      "image/png": "[encoded data removed]",
      "text/plain": [
       "<matplotlib.figure.Figure at 0x1540b40a128>"
      ]
     },
     "metadata": {},
     "output_type": "display_data"
    }
   ],
   "source": [
    "X_train, X_test, y_train, y_test = train_test_split(pre_os_features, pre_os_labels, test_size=0.25, random_state=42)\n",
    "\n",
    "print(X_train.shape, X_test.shape)\n",
    "X_train_pca = pca.transform(X_train)\n",
    "X_test_pca = pca.transform(X_test)\n",
    "\n",
    "cmrf = ConfusionMatrix(random_classifier, cmap='Blues')\n",
    "cmrf.fit(X_train_pca, y_train)\n",
    "cmrf.score(X_test_pca, y_test)\n",
    "cmrf.poof()"
   ]
  },
  {
   "cell_type": "markdown",
   "metadata": {},
   "source": [
    "Post oversampling i.e, after the split."
   ]
  },
  {
   "cell_type": "code",
   "execution_count": 19,
   "metadata": {
    "collapsed": true
   },
   "outputs": [],
   "source": [
    "X_train, X_test, y_train, y_test = train_test_split(X_data, y_class, test_size=0.25, random_state=42)"
   ]
  },
  {
   "cell_type": "code",
   "execution_count": 20,
   "metadata": {},
   "outputs": [
    {
     "name": "stdout",
     "output_type": "stream",
     "text": [
      "(56, 3650) (12, 3650)\n"
     ]
    }
   ],
   "source": [
    "# post split\n",
    "post_oversampler = SMOTE(random_state=0)\n",
    "post_os_features, post_os_labels = post_oversampler.fit_sample(X_train, y_train)\n",
    "print(post_os_features.shape, X_test.shape)"
   ]
  },
  {
   "cell_type": "code",
   "execution_count": 21,
   "metadata": {},
   "outputs": [
    {
     "name": "stdout",
     "output_type": "stream",
     "text": [
      "19\n"
     ]
    },
    {
     "data": {
      "image/png": "[encoded data removed]",
      "text/plain": [
       "<matplotlib.figure.Figure at 0x1540ad1be10>"
      ]
     },
     "metadata": {},
     "output_type": "display_data"
    }
   ],
   "source": [
    "pca = PCA(.9999)\n",
    "pca_fit = pca.fit(post_os_features)\n",
    "#Cumulative Variance explains\n",
    "var3 = np.cumsum(np.round(pca.explained_variance_ratio_, decimals=4)*100)\n",
    "\n",
    "print(len(var3))\n",
    "plt.plot(var3)\n",
    "plt.show()"
   ]
  },
  {
   "cell_type": "code",
   "execution_count": 22,
   "metadata": {},
   "outputs": [
    {
     "name": "stdout",
     "output_type": "stream",
     "text": [
      "(56, 3650) (12, 3650)\n"
     ]
    },
    {
     "data": {
      "image/png": "[encoded data removed]",
      "text/plain": [
       "<matplotlib.figure.Figure at 0x1540ac70358>"
      ]
     },
     "metadata": {},
     "output_type": "display_data"
    }
   ],
   "source": [
    "print(post_os_features.shape, X_test.shape)\n",
    "X_train_pca = pca.transform(post_os_features)\n",
    "X_test_pca = pca.transform(X_test)\n",
    "\n",
    "cmrf = ConfusionMatrix(random_classifier, cmap='Blues')\n",
    "cmrf.fit(X_train_pca, post_os_labels)\n",
    "cmrf.score(X_test_pca, y_test)\n",
    "cmrf.poof()"
   ]
  },
  {
   "cell_type": "code",
   "execution_count": 23,
   "metadata": {},
   "outputs": [],
   "source": [
    "from sklearn.pipeline import Pipeline, FeatureUnion\n",
    "from sklearn.model_selection import GridSearchCV\n",
    "from sklearn.svm import SVC\n",
    "from sklearn.decomposition import PCA\n",
    "from sklearn.feature_selection import SelectKBest"
   ]
  },
  {
   "cell_type": "code",
   "execution_count": null,
   "metadata": {
    "collapsed": true
   },
   "outputs": [],
   "source": []
  }
 ],
 "metadata": {
  "kernelspec": {
   "display_name": "Python [default]",
   "language": "python",
   "name": "python3"
  },
  "language_info": {
   "codemirror_mode": {
    "name": "ipython",
    "version": 3
   },
   "file_extension": ".py",
   "mimetype": "text/x-python",
   "name": "python",
   "nbconvert_exporter": "python",
   "pygments_lexer": "ipython3",
   "version": "3.6.4"
  }
 },
 "nbformat": 4,
 "nbformat_minor": 2
}
