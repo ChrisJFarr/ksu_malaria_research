{
 "cells": [
  {
   "cell_type": "markdown",
   "metadata": {},
   "source": [
    "# Classification Notebook\n",
    "## Main questions of interest:\n",
    "<ol> \n",
    "<li>Which descriptors best predict potency?  How do we validate these?\n",
    "    <ul>\n",
    "    <li>[...]</li>\n",
    "    <li>[...]</li>\n",
    "    </ul> \n",
    "</li>\n",
    "\n",
    "<li>Can we augment the data set with predicted negative data (molecules expected to be inactive) to improve our machine learning models? Are there certain characteristics of negative data sets that are the most useful for training?\n",
    "    <ul>\n",
    "\n",
    "        <li>[...]</li>\n",
    "        <li>[...]</li>\n",
    "    </ul>\n",
    "</li>\n",
    "\n",
    "<li>Given the limited size of the data set and the high cost of experiments, can we use ML to identify the missing data that would be best for model training?\n",
    "    <ul>\n",
    "\n",
    "        <li>[...]</li>\n",
    "        <li>[...]</li>\n",
    "    </ul>\n",
    "</li>\n",
    "<li>Which cluster most closely with OSM-S-106?\n",
    "    <ul>\n",
    "        <li>[...]</li>\n",
    "        <li>[...]</li>\n",
    "    </ul>\n",
    "</li>\n",
    "<li>Would this provide clues as to the mechanism of OSM-S-106?\n",
    "    <ul>\n",
    "\n",
    "        <li>[...]</li>\n",
    "        <li>[...]</li>\n",
    "    </ul>\n",
    "</li>\n",
    "<li>How well do more advanced ML models perform over simple methods like multiple linear regression, SVM, and random forest?\n",
    "    <ul>\n",
    "\n",
    "        <li>[...]</li>\n",
    "        <li>[...]</li>\n",
    "    </ul></li>\n",
    "</ol>"
   ]
  },
  {
   "cell_type": "markdown",
   "metadata": {},
   "source": [
    "## Import Libraries\n",
    "<hr>"
   ]
  },
  {
   "cell_type": "code",
   "execution_count": 1,
   "metadata": {},
   "outputs": [
    {
     "name": "stderr",
     "output_type": "stream",
     "text": [
      "/Library/Python/2.7/site-packages/statsmodels/compat/pandas.py:56: FutureWarning: The pandas.core.datetools module is deprecated and will be removed in a future version. Please use the pandas.tseries module instead.\n",
      "  from pandas.core import datetools\n"
     ]
    }
   ],
   "source": [
    "# Core\n",
    "import numpy as np\n",
    "import pandas as pd\n",
    "import os\n",
    "import subprocess\n",
    "def install_package(name):\n",
    "    sudoPassword = ''\n",
    "    command = 'pip install ' + name\n",
    "    p = os.system('echo %s|sudo -S %s' % (sudoPassword, command))\n",
    "\n",
    "# Stats\n",
    "from statsmodels.regression import linear_model\n",
    "import statsmodels.api as sm\n",
    "\n",
    "# ML\n",
    "from sklearn.preprocessing import StandardScaler\n",
    "from sklearn.cluster import KMeans\n",
    "from sklearn.decomposition import PCA\n",
    "from sklearn.pipeline import Pipeline\n",
    "from sklearn.model_selection import cross_val_score\n",
    "from sklearn.linear_model import LinearRegression\n",
    "import matplotlib.pyplot as plt\n",
    "import seaborn as sns"
   ]
  },
  {
   "cell_type": "markdown",
   "metadata": {},
   "source": [
    "## Import Data\n",
    "<hr>\n",
    "\n",
    "Data provided from: https://www.dropbox.com/sh/c9mbk8e2e8jxqfy/AADSmMbdoZduyG7Eq0HwOTT_a?dl=0\n",
    "\n",
    "### Series3_6.15.17_padel.csv\n",
    "This contains the data on OSM-S-106 and other OSM compounds. The field \"IC50\" describes potency. Smaller IC50 corresponds to higher potency, but a value of zero is impossible. A value of >40 means that the compound lacks enough activity to be interesting to us. OSM-S-106 has IC50 = 0.036.\n",
    "\n",
    "### *_decoys_padel.csv\n",
    "8 data sets called *_decoys_padel.csv. These large data sets contain compounds predicted to have minimal or no activity (IC50 can be assigned >200?).\n",
    "\n",
    "### Selleck_filtered_padel_corrected.csv\n",
    "Selleck_filtered_padel_corrected.csv. This is a set of well-characterized drugs from a vendor. We wish to identify drugs most similar to OSM-S-106 and predicted to be potent."
   ]
  },
  {
   "cell_type": "code",
   "execution_count": null,
   "metadata": {
    "collapsed": true
   },
   "outputs": [],
   "source": [
    "# Read in main data\n",
    "main_df = pd.read_csv(\"Series3_6.15.17_padel.csv\")\n",
    "\n",
    "# Read in placebos data\n",
    "placebo_1 = pd.read_csv(\"Akt1_decoys_padel.csv\")\n",
    "placebo_2 = pd.read_csv(\"AmpC_decoys_padel.csv\")\n",
    "placebo_3 = pd.read_csv(\"cp3a4_decoys_padel.csv\")\n",
    "placebo_4 = pd.read_csv(\"cxcr4_decoys_padel.csv\")\n",
    "placebo_5 = pd.read_csv(\"HIVpr_decoys_padel.csv\")\n",
    "placebo_6 = pd.read_csv(\"HIVrt_decoys_padel.csv\")\n",
    "placebo_7 = pd.read_csv(\"Kif11_decoys_padel.csv\")\n",
    "placebo_8 = pd.read_csv(\"Selleck_filtered_padel_corrected.csv\")\n",
    "\n",
    "# Append dumby response column.\n",
    "placebo_1.insert(1, \"IC50\", pd.Series(np.array([250 for i in range(placebo_1.shape[0])], dtype=\"float64\"))) \n",
    "placebo_2.insert(1, \"IC50\", pd.Series(np.array([250 for i in range(placebo_2.shape[0])], dtype=\"float64\"))) \n",
    "placebo_3.insert(1, \"IC50\", pd.Series(np.array([250 for i in range(placebo_3.shape[0])], dtype=\"float64\"))) \n",
    "placebo_4.insert(1, \"IC50\", pd.Series(np.array([250 for i in range(placebo_4.shape[0])], dtype=\"float64\"))) \n",
    "placebo_5.insert(1, \"IC50\", pd.Series(np.array([250 for i in range(placebo_5.shape[0])], dtype=\"float64\"))) \n",
    "placebo_6.insert(1, \"IC50\", pd.Series(np.array([250 for i in range(placebo_6.shape[0])], dtype=\"float64\"))) \n",
    "placebo_7.insert(1, \"IC50\", pd.Series(np.array([250 for i in range(placebo_7.shape[0])], dtype=\"float64\"))) \n",
    "placebo_8.insert(1, \"IC50\", pd.Series(np.array([250 for i in range(placebo_8.shape[0])], dtype=\"float64\"))) \n",
    "\n",
    "# Gather our dataframes for collective manipulation\n",
    "frames = [main_df,   placebo_1, placebo_2, \n",
    "          placebo_3, placebo_4, placebo_5,\n",
    "          placebo_6, placebo_7, placebo_8]\n"
   ]
  },
  {
   "cell_type": "markdown",
   "metadata": {},
   "source": [
    "### Remove NAs from main dataset"
   ]
  },
  {
   "cell_type": "code",
   "execution_count": null,
   "metadata": {
    "collapsed": true
   },
   "outputs": [],
   "source": [
    "# It only makes sense to keep non-null responses.\n",
    "row_mask=frames[0].isnull().any(axis=1) == False\n",
    "frames[0] = frames[0].loc[row_mask,:]"
   ]
  },
  {
   "cell_type": "markdown",
   "metadata": {},
   "source": []
  },
  {
   "cell_type": "code",
   "execution_count": null,
   "metadata": {
    "collapsed": true
   },
   "outputs": [],
   "source": []
  }
 ],
 "metadata": {
  "kernelspec": {
   "display_name": "Python [conda env:deep-learn]",
   "language": "python",
   "name": "conda-env-deep-learn-py"
  },
  "language_info": {
   "codemirror_mode": {
    "name": "ipython",
    "version": 3
   },
   "file_extension": ".py",
   "mimetype": "text/x-python",
   "name": "python",
   "nbconvert_exporter": "python",
   "pygments_lexer": "ipython3",
   "version": "3.6.4"
  }
 },
 "nbformat": 4,
 "nbformat_minor": 2
}
