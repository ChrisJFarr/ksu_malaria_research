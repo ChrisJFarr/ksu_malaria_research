{
 "cells": [
  {
   "cell_type": "markdown",
   "metadata": {},
   "source": [
    "### Objective Notes\n",
    "\n",
    "The most active compound is called OSM-S-106. However, we do not understand how OSM-S-106 works to kill the \n",
    "malaria parasite. We wish to identify the target of OSM-S-106 in the parasite. <b>Knowing the target will help us create\n",
    "more potent versions of OSM-S-106.</b>\n",
    "\n",
    "We are in the process of performing experiments with OSM and KU to identify the OSM-S-106 target. Experiments are \n",
    "slow and very expensive. We would also like to apply machine learning methods to predict potential targets. To do \n",
    "that, we have calculated molecular descriptors, which describe chemical features of the drug candidate molecules. \n",
    "\n",
    "We wish to find descriptors that would help predict potency (described by the \"IC50\").\n",
    "\n",
    "Questions we want to research:\n",
    "Which descriptors best predict potency?\n",
    "Our data set is very small. Finding an effective drug is like finding a needle in a haystack. This is a common problem with scientific data sets. Can we augment the data set with predicted negative data (molecules expected to be inactive) to improve our machine learning models? Are there certain characteristics of negative data sets that are the most useful for training?\n",
    "Given the limited size of the data set and the high cost of experiments, can we use ML to identify the missing data that would be best for model training? In this way, ML would be recommending future experiments.\n",
    "Apply the ML model to set of well-characterized drugs. Which cluster most closely with OSM-S-106? Would this provide clues as to the mechanism of OSM-S-106?\n",
    "How well do more advanced ML models perform over simple methods like multiple linear regression, SVM, and random forest?\n",
    "\n",
    "\n",
    "\n",
    "What is the activate compound (OSM-S-106) targeting within the malaria parasite?\n",
    "Leverage experiment results and molecular descriptors of effective drug.\n",
    "What dimensions are accurate predictors of \"potency\".\n",
    "\n",
    "\n",
    "\n",
    "\n",
    "Is this feature a predictor of potency?\n",
    "Scaling the feature and creating a new target that is an average of the potency times the presence of the characteristic\n"
   ]
  },
  {
   "cell_type": "code",
   "execution_count": 1,
   "metadata": {},
   "outputs": [],
   "source": [
    "import pandas as pd\n",
    "from sklearn.decomposition import KernelPCA\n",
    "from matplotlib import pyplot as plt\n",
    "import numpy as np"
   ]
  },
  {
   "cell_type": "code",
   "execution_count": 2,
   "metadata": {},
   "outputs": [],
   "source": [
    "# Read in data\n",
    "df = pd.read_csv(\"data/Series3_6.15.17_padel.csv\")\n",
    "# Drop examples without IC50\n",
    "df = df[~df.IC50.isnull()]"
   ]
  },
  {
   "cell_type": "code",
   "execution_count": 13,
   "metadata": {},
   "outputs": [
    {
     "name": "stdout",
     "output_type": "stream",
     "text": [
      "{dtype('int64'): 473, dtype('float64'): 972, dtype('O'): 1}\n"
     ]
    }
   ],
   "source": [
    "# Column types and counts\n",
    "from pprint import pprint\n",
    "pprint(dict(zip(np.unique(df.dtypes),[len(df.columns[df.dtypes == 'int64']),\n",
    "                                len(df.columns[df.dtypes == 'float64']),\n",
    "                                len(df.columns[df.dtypes == 'O'])])))"
   ]
  },
  {
   "cell_type": "code",
   "execution_count": 14,
   "metadata": {},
   "outputs": [],
   "source": [
    "\"\"\" Create dummies for categorical variables \"\"\"\n",
    "\n",
    "# No missing values in categorical.\n",
    "sum(df[df.columns[df.iloc[:, :].dtypes == 'int64']].isnull().sum())\n",
    "# Get dummy vars: filter to int type, convert to object, pass to get_dummies.\n",
    "cat_vars_df = pd.get_dummies(df[df.columns[df.iloc[:, :].dtypes == 'int64']].astype('O'))\n",
    "\n",
    "# 67 columns have missing values\n",
    "sum(df[df.columns[df.iloc[:, :].dtypes == 'float64']].isnull().sum())\n",
    "# Impute or remove? (for now remove any columns with nan\n",
    "cont_vars_df = df[df.columns[df.iloc[:, :].dtypes == 'float64']].dropna(axis=1)\n",
    "\n",
    "# Combine datasets\n",
    "vars_df = pd.concat([cat_vars_df, cont_vars_df], axis=1)"
   ]
  },
  {
   "cell_type": "code",
   "execution_count": 15,
   "metadata": {},
   "outputs": [],
   "source": [
    "# Manually separate color map to focus on effective compounds\n",
    "# If less 10, make zero, set target to -.5, else 1\n",
    "# TODO play around with varieties of splits for visualizations\n",
    "\n",
    "def sep_var(x):\n",
    "    if x < 1:\n",
    "        return -.5\n",
    "    elif x < 10:\n",
    "        return 0\n",
    "    else:\n",
    "        return 1\n",
    "\n",
    "\n",
    "color_map = df.IC50.apply(sep_var)"
   ]
  },
  {
   "cell_type": "code",
   "execution_count": 16,
   "metadata": {
    "scrolled": true
   },
   "outputs": [
    {
     "data": {
      "image/png": "[encoded data removed]",
      "text/plain": [
       "<matplotlib.figure.Figure at 0x164aaf9e0b8>"
      ]
     },
     "metadata": {},
     "output_type": "display_data"
    }
   ],
   "source": [
    "# Linear\n",
    "pca = KernelPCA(n_components=None, kernel=\"linear\", random_state=0, n_jobs=3)\n",
    "pca_out = pca.fit_transform(vars_df)\n",
    "\n",
    "# Plot the pca, gradient color with IC50 (red => potent to green)\n",
    "plt.scatter(x=pca_out[:, 0], y=pca_out[:, 1], c=color_map, cmap=\"winter\")\n",
    "plt.show()"
   ]
  },
  {
   "cell_type": "code",
   "execution_count": 17,
   "metadata": {},
   "outputs": [],
   "source": [
    "# All of the top performing compounds are evenly spread out across the top 2 dimensions\n",
    "# of a linear PCA analysis.\n",
    "# This might mean the dimension that is especially good at splitting these examples\n",
    "# from the inactive compounds is not represented.\n",
    "# This might also mean, that there are different \"approaches\" to treating malaria and\n",
    "# different avenues to go down.\n",
    "# Interesting: when looking at it this way, the highest performing is\n",
    "# directly in the center of the performing compounds."
   ]
  }
 ],
 "metadata": {
  "kernelspec": {
   "display_name": "Python [conda env:deep-learn]",
   "language": "python",
   "name": "conda-env-deep-learn-py"
  },
  "language_info": {
   "codemirror_mode": {
    "name": "ipython",
    "version": 3
   },
   "file_extension": ".py",
   "mimetype": "text/x-python",
   "name": "python",
   "nbconvert_exporter": "python",
   "pygments_lexer": "ipython3",
   "version": "3.6.4"
  }
 },
 "nbformat": 4,
 "nbformat_minor": 2
}
