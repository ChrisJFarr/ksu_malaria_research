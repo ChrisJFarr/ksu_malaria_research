{
 "cells": [
  {
   "cell_type": "markdown",
   "metadata": {},
   "source": [
    "### Linear PCA with Lasso feature-selection"
   ]
  },
  {
   "cell_type": "code",
   "execution_count": 2,
   "metadata": {},
   "outputs": [],
   "source": [
    "import pandas as pd\n",
    "from sklearn.decomposition import KernelPCA\n",
    "from matplotlib import pyplot as plt\n",
    "import numpy as np\n",
    "from sklearn.linear_model import Lasso, LinearRegression\n",
    "from sklearn.preprocessing import StandardScaler\n",
    "%matplotlib inline\n",
    "\n",
    "\n",
    "df = pd.read_csv(\"data/Series3_6.15.17_padel.csv\")\n",
    "# Drop examples without IC50\n",
    "df = df[~df.IC50.isnull()]\n",
    "\n",
    "# Column types and counts\n",
    "np.unique(df.dtypes)\n",
    "len(df.columns[df.iloc[:, :].dtypes == 'O'])\n",
    "len(df.columns[df.iloc[:, :].dtypes == 'int64'])\n",
    "len(df.columns[df.iloc[:, :].dtypes == 'float64'])\n",
    "\n",
    "\"\"\" Create dummies for categorical variables \"\"\"\n",
    "\n",
    "# No missing values in categorical.\n",
    "sum(df[df.columns[df.iloc[:, :].dtypes == 'int64']].isnull().sum())\n",
    "# Get dummy vars: filter to int type, convert to object, pass to get_dummies.\n",
    "cat_vars_df = pd.get_dummies(df[df.columns[df.iloc[:, :].dtypes == 'int64']].astype('O'))\n",
    "\n",
    "# 67 columns have missing values\n",
    "sum(df[df.columns[df.iloc[:, :].dtypes == 'float64']].isnull().sum())\n",
    "# Impute or remove? (for now remove any columns with nan)\n",
    "cont_vars_df = df[df.columns[df.iloc[:, :].dtypes == 'float64']].dropna(axis=1)\n",
    "# Drop target variable\n",
    "cont_vars_df.drop(\"IC50\", axis=1, inplace=True)\n",
    "\n",
    "# Combine datasets\n",
    "vars_df = pd.concat([cat_vars_df, cont_vars_df], axis=1)"
   ]
  },
  {
   "cell_type": "code",
   "execution_count": 3,
   "metadata": {},
   "outputs": [],
   "source": [
    "# Normalize variables\n",
    "x_scaler = StandardScaler()\n",
    "y_scaler = StandardScaler()\n",
    "\n",
    "x_train = x_scaler.fit_transform(vars_df)\n",
    "x_columns = list(vars_df.columns)\n",
    "y_train = y_scaler.fit_transform(df.IC50.values.reshape(-1, 1))"
   ]
  },
  {
   "cell_type": "markdown",
   "metadata": {},
   "source": [
    "### Feature selection with Lasso Regression"
   ]
  },
  {
   "cell_type": "code",
   "execution_count": 4,
   "metadata": {},
   "outputs": [
    {
     "data": {
      "text/plain": [
       "Lasso(alpha=0.01, copy_X=True, fit_intercept=True, max_iter=100000,\n",
       "   normalize=False, positive=False, precompute=False, random_state=None,\n",
       "   selection='cyclic', tol=1e-05, warm_start=False)"
      ]
     },
     "execution_count": 4,
     "metadata": {},
     "output_type": "execute_result"
    }
   ],
   "source": [
    "# Build model\n",
    "# NOTE: Gridsearch with Lasso didn't work well, \"best\" model output all 0's for coefficients\n",
    "model = Lasso(alpha=0.01, max_iter=100000, tol=1e-5)\n",
    "model.fit(x_train, y_train)"
   ]
  },
  {
   "cell_type": "code",
   "execution_count": 5,
   "metadata": {},
   "outputs": [
    {
     "name": "stdout",
     "output_type": "stream",
     "text": [
      "71 predictive indicators\n"
     ]
    }
   ],
   "source": [
    "# Extract coefficients\n",
    "positive_coeffs = len([c for c in model.coef_ if c > 0])\n",
    "neg_coeffs = len([c for c in model.coef_ if c < 0])\n",
    "# Negative are selected as predictive indicators\n",
    "pred_indicators = [f for f, c in zip(x_columns, model.coef_) if c < 0]\n",
    "print(\"%s predictive indicators\" % len(pred_indicators))"
   ]
  },
  {
   "cell_type": "markdown",
   "metadata": {},
   "source": [
    "### PCA with selected features"
   ]
  },
  {
   "cell_type": "code",
   "execution_count": 6,
   "metadata": {},
   "outputs": [],
   "source": [
    "# Manually separate color map to focus on effective compounds\n",
    "# If less 10 make zero, target -.5, else 1\n",
    "# TODO we could try different values here\n",
    "def create_map(x):\n",
    "    if x < 1:\n",
    "        return -.5\n",
    "    elif x < 10:\n",
    "        return 0\n",
    "    else:\n",
    "        return 1\n",
    "\n",
    "\n",
    "color_map = df.IC50.apply(create_map)"
   ]
  },
  {
   "cell_type": "code",
   "execution_count": 7,
   "metadata": {},
   "outputs": [],
   "source": [
    "# Build Linear Pricipal Components\n",
    "pca = KernelPCA(n_components=None, kernel=\"linear\", random_state=0, n_jobs=3)\n",
    "pca_out = pca.fit_transform(vars_df.loc[:, pred_indicators])"
   ]
  },
  {
   "cell_type": "code",
   "execution_count": 8,
   "metadata": {
    "scrolled": true
   },
   "outputs": [
    {
     "data": {
      "image/png": "[encoded data removed]",
      "text/plain": [
       "<matplotlib.figure.Figure at 0x2a33cb28c50>"
      ]
     },
     "metadata": {},
     "output_type": "display_data"
    }
   ],
   "source": [
    "# Plot the pca, gradient color with IC50 (blue \"potent\" to green \"not potent\")\n",
    "plt.scatter(x=pca_out[:, 0], y=pca_out[:, 1], c=color_map, cmap=\"winter\")\n",
    "plt.title(\"Lasso Feature Selection - Linear PCA\")\n",
    "plt.show()"
   ]
  },
  {
   "cell_type": "markdown",
   "metadata": {},
   "source": [
    "Blue dots represent the effective compounds. This view appears more separated than PCA on entire dataset.\n",
    "\n",
    "Next steps could be to add non-linear transformations on all data points to see if any rise up to become a predictor.\n",
    "http://fmwww.bc.edu/repec/bocode/t/transint.html"
   ]
  }
 ],
 "metadata": {
  "kernelspec": {
   "display_name": "Python [conda env:deep-learn]",
   "language": "python",
   "name": "conda-env-deep-learn-py"
  },
  "language_info": {
   "codemirror_mode": {
    "name": "ipython",
    "version": 3
   },
   "file_extension": ".py",
   "mimetype": "text/x-python",
   "name": "python",
   "nbconvert_exporter": "python",
   "pygments_lexer": "ipython3",
   "version": "3.6.4"
  }
 },
 "nbformat": 4,
 "nbformat_minor": 2
}
